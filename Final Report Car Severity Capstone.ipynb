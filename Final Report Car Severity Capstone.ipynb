{
    "cells": [
        {
            "metadata": {
                "collapsed": true
            },
            "cell_type": "markdown",
            "source": "# Final Report"
        },
        {
            "metadata": {},
            "cell_type": "markdown",
            "source": "## Introduction\n"
        },
        {
            "metadata": {},
            "cell_type": "markdown",
            "source": "### A.1. Background Description"
        },
        {
            "metadata": {},
            "cell_type": "markdown",
            "source": "Traffic accidents result in severe fatalities across the world and are the leading cause of death for people aged 15-29. Weather patterns can have a dramatic impact on the safety of driving in specific regions, due to limited visibility and reduced grip from tyres. \n\nWhen people start planning their trips between places they tend to check their route first and see estimated time to arrival, but often don\u2019t see any warnings for weather or increased accident risks on certain roads. Due to this, drivers might end up taking a dangerous route and encounter treacherous road surfaces and end up in an accident.\n\nThe purpose of this project is to model these dangerous driving conditions and predict regions where accidents are most likely to be severe. This will be done in an effort to improve road safety by warning people and allowing them to postpone travel or choose safer routes to get to their destinations. The data obtained from this model will be delivered to the Seattle government and police as well, so they can remain on high alert in regions predicted to be high risk for severe crashes. \n"
        },
        {
            "metadata": {},
            "cell_type": "markdown",
            "source": "### A.2. Data Description"
        },
        {
            "metadata": {},
            "cell_type": "markdown",
            "source": "\nThe Seattle SPOT Traffic Management Division has a dataset containing information regarding collisions from 2004 to 2020 with several key features surrounding severity and weather. The \u2018SEVERITYCODE\u2019 column is going to be the target variable which the model will predict in order to warn drivers of dangerous areas. The variable is effectively a binary class which classifies accidents into either \u2018property damage\u2019 or \u2018injury collision\u2019. There are classifiers for \u2018severe injury\u2019 and \u2018fatality\u2019, but no data for those metrics is present within the data set hence they cannot be modeled.\n\nThe variables used to train the model will be \u2018WEATHER\u2019, \u2018LIGHTCOND\u2019 and \u2018ROADCOND\u2019 as they pertain directly to the conditions the drivers were in at the time of their accidents. The three variables are all TEXT data types and can hence be classified using frequency counts by processing the data. \n\n"
        },
        {
            "metadata": {},
            "cell_type": "code",
            "source": "",
            "execution_count": null,
            "outputs": []
        }
    ],
    "metadata": {
        "kernelspec": {
            "name": "python3",
            "display_name": "Python 3.6",
            "language": "python"
        },
        "language_info": {
            "name": "python",
            "version": "3.6.9",
            "mimetype": "text/x-python",
            "codemirror_mode": {
                "name": "ipython",
                "version": 3
            },
            "pygments_lexer": "ipython3",
            "nbconvert_exporter": "python",
            "file_extension": ".py"
        }
    },
    "nbformat": 4,
    "nbformat_minor": 1
}